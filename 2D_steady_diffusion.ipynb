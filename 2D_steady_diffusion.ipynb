{
 "cells": [
  {
   "cell_type": "markdown",
   "metadata": {},
   "source": [
    "## 2D Diffusion Equation with constant temperature boundary conditions"
   ]
  },
  {
   "cell_type": "code",
   "execution_count": 1,
   "metadata": {},
   "outputs": [],
   "source": [
    "import numpy as np\n",
    "import matplotlib.pyplot as plt"
   ]
  },
  {
   "cell_type": "code",
   "execution_count": 2,
   "metadata": {},
   "outputs": [],
   "source": [
    "NX=50 # Number of divisions in X-direction\n",
    "NY=50 # Number of divisions in Y-direction\n",
    "LX=1\n",
    "LY=1\n",
    "dx=LX/NX\n",
    "dy=LY/NY"
   ]
  },
  {
   "cell_type": "code",
   "execution_count": 3,
   "metadata": {},
   "outputs": [],
   "source": [
    "X_C=np.arange(0,LX,dx)\n",
    "Y_C=np.arange(0,LY,dy)\n",
    "XD,YD=np.meshgrid(X_C,Y_C)"
   ]
  },
  {
   "cell_type": "code",
   "execution_count": 4,
   "metadata": {},
   "outputs": [],
   "source": [
    "k=5      # Thermal Conductivity\n",
    "a_e=(k/dx)*dy\n",
    "a_w=(k/dx)*dy\n",
    "a_n=(k/dy)*dx\n",
    "a_s=(k/dy)*dx"
   ]
  },
  {
   "cell_type": "code",
   "execution_count": 5,
   "metadata": {},
   "outputs": [],
   "source": [
    "CFM=np.zeros((NX*NY,NX*NY))                 # Coefficient Matrix\n",
    "for i in range(1,NX-1):\n",
    "    for j in range(1,NY-1):\n",
    "        CFM[NY*(i)+j,NY*(i)+j-1]=-a_w\n",
    "        CFM[NY*(i)+j,NY*(i-1)+j]=-a_s\n",
    "        CFM[NY*(i)+j,NY*(i)+j+1]=-a_e\n",
    "        CFM[NY*(i)+j,NY*(i+1)+j]=-a_n\n",
    "        CFM[NY*(i)+j,NY*(i)+j]=a_e+a_w+a_n+a_s\n",
    "for i in range(1,NY-1):                         # Bottom face\n",
    "    CFM[NY*0+i,NY*0+i+1]=-a_e\n",
    "    CFM[NY*0+i,NY*(0+1)+i]=-a_n\n",
    "    CFM[NY*0+i,NY*0+i-1]=-a_w\n",
    "    CFM[NY*0+i,NY*0+i]=a_e+a_n+a_w+(2*a_s)\n",
    "for i in range(1,NY-1):                         # Top face\n",
    "    CFM[NY*(NX-1)+i,NY*(NX-1)+i+1]=-a_e\n",
    "    CFM[NY*(NX-1)+i,NY*((NX-1)-1)+i]=-a_s\n",
    "    CFM[NY*(NX-1)+i,NY*(NX-1)+i-1]=-a_w\n",
    "    CFM[NY*(NX-1)+i,NY*(NX-1)+i]=a_e+a_n+a_w+(2*a_n)\n",
    "for j in range(1,NX-1):                         # Left face\n",
    "    CFM[NY*(j)+0,NY*(j)+1]=-a_e\n",
    "    CFM[NY*(j)+0,NY*(j-1)+0]=-a_s\n",
    "    CFM[NY*(j)+0,NY*(j+1)+0]=-a_n\n",
    "    CFM[NY*(j)+0,NY*(j)+0]=a_e+a_s+a_n+(2*a_w)\n",
    "for j in range(1,NX-1):                         # Right face\n",
    "    CFM[NY*(j)+NY-1,NY*(j)+NY-1-1]=-a_w\n",
    "    CFM[NY*(j)+NY-1,NY*(j-1)+NY-1]=-a_s\n",
    "    CFM[NY*(j)+NY-1,NY*(j+1)+NY-1]=-a_n\n",
    "    CFM[NY*(j)+NY-1,NY*(j)+NY-1]=a_w+a_s+a_n+(2*a_e)\n",
    "###################################################################\n",
    "CFM[NY*0+0,NY*0+0]=a_e+a_n+(2*a_w)+(2*a_s)                  #Corner SW\n",
    "CFM[NY*0+0,NY*0+1]=-a_e\n",
    "CFM[NY*0+0,NY*1+0]=-a_n\n",
    "\n",
    "CFM[NY*0+NY-1,NY*0+NY-1]=a_w+a_n+(2*a_e)+(2*a_s)            #Corner SE\n",
    "CFM[NY*0+NY-1,NY*0+NY-1-1]=-a_w\n",
    "CFM[NY*0+NY-1,NY*1+NY-1]=-a_n\n",
    "\n",
    "CFM[NY*(NX-1)+NY-1,NY*(NX-1)+NY-1]=a_w+a_s+(2*a_n)+(2*a_e)  #Corner NE\n",
    "CFM[NY*(NX-1)+NY-1,NY*(NX-1)+NY-1-1]=-a_w\n",
    "CFM[NY*(NX-1)+NY-1,NY*(NX-1-1)+NY-1]=-a_s\n",
    "\n",
    "CFM[NY*(NX-1)+0,NY*(NX-1)+0]=a_e+a_s+(2*a_n)+(2*a_w)        #Corner NW\n",
    "CFM[NY*(NX-1)+0,NY*(NX-1)+0+1]=-a_e\n",
    "CFM[NY*(NX-1)+0,NY*(NX-1-1)+0]=-a_s"
   ]
  },
  {
   "cell_type": "code",
   "execution_count": 6,
   "metadata": {},
   "outputs": [],
   "source": [
    "#BOUNDARY CONDITIONS\n",
    "T_L=200                                # LEFT FACE TEMPERTURE in KELVIN\n",
    "T_T=100                                # TOP FACE  TEMPERTURE in KELVIN\n",
    "T_R=500                                # RIGHT FACE TEMPERTURE in KELVIN\n",
    "T_B=300                                # BOTTOM FACE TEMPERTURE in KELVIN\n",
    "\n",
    "BCV=np.zeros(NX*NY)                    # BOUNDARY CONDITION VECTOR\n",
    "for i in range(1,NY-1):\n",
    "    BCV[NY*0+i]=2*a_s*T_B               # BOTTOM FACE\n",
    "    BCV[NY*(NX-1)+i]=2*a_n*T_T          # TOP FACE\n",
    "for j in range(1,NX-1):\n",
    "    BCV[NY*j+0]=2*a_w*T_L               # LEFT FACE\n",
    "    BCV[NY*j+NY-1]=2*a_e*T_R            # RIGHT FACE\n",
    "\n",
    "BCV[NY*0+0]=(2*a_w*T_L)+(2*a_s*T_B)             # Corner SW\n",
    "BCV[NY*0+NY-1]=(2*a_e*T_R)+(2*a_s*T_B)          # Corner SE\n",
    "BCV[NY*(NX-1)+NY-1]=(2*a_e*T_R)+(2*a_n*T_T)     # Corner NE\n",
    "BCV[NY*(NX-1)+0]=(2*a_w*T_L)+(2*a_n*T_T)        # Corner NW"
   ]
  },
  {
   "cell_type": "code",
   "execution_count": 7,
   "metadata": {},
   "outputs": [],
   "source": [
    "TFV=np.dot(np.linalg.inv(CFM),BCV)"
   ]
  },
  {
   "cell_type": "code",
   "execution_count": 8,
   "metadata": {},
   "outputs": [],
   "source": [
    "Grid_T=np.zeros((NX,NY))\n",
    "for i in range(NX*NY):\n",
    "    Grid_T[(i//NY),i%NY]=TFV[i]"
   ]
  },
  {
   "cell_type": "code",
   "execution_count": 9,
   "metadata": {},
   "outputs": [
    {
     "data": {
      "image/png": "[encoded data removed]",
      "text/plain": [
       "<Figure size 720x504 with 2 Axes>"
      ]
     },
     "metadata": {
      "needs_background": "light"
     },
     "output_type": "display_data"
    }
   ],
   "source": [
    "plt.figure(figsize=(10,7))\n",
    "plt.contourf(XD,YD,Grid_T,levels=40,cmap='coolwarm')\n",
    "plt.title('Temperature distribution in a square domain')\n",
    "plt.xlabel('X')\n",
    "plt.ylabel('Y')\n",
    "plt.colorbar()\n",
    "plt.show()"
   ]
  }
 ],
 "metadata": {
  "kernelspec": {
   "display_name": "Python 3",
   "language": "python",
   "name": "python3"
  },
  "language_info": {
   "codemirror_mode": {
    "name": "ipython",
    "version": 3
   },
   "file_extension": ".py",
   "mimetype": "text/x-python",
   "name": "python",
   "nbconvert_exporter": "python",
   "pygments_lexer": "ipython3",
   "version": "3.8.8"
  }
 },
 "nbformat": 4,
 "nbformat_minor": 2
}
